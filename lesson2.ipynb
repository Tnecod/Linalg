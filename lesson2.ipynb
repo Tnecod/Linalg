{
 "cells": [
  {
   "cell_type": "code",
   "execution_count": 54,
   "id": "02f904e2",
   "metadata": {},
   "outputs": [],
   "source": [
    "import numpy as np"
   ]
  },
  {
   "cell_type": "markdown",
   "id": "1e0a641c",
   "metadata": {},
   "source": [
    "### Задание 1"
   ]
  },
  {
   "cell_type": "code",
   "execution_count": 55,
   "id": "99c92b33",
   "metadata": {},
   "outputs": [],
   "source": [
    "# а) \n",
    "    # A(4,2) и B(4,2)\n",
    "        # A*B и B*A не определено, не соответствует условиям произведения матриц"
   ]
  },
  {
   "cell_type": "code",
   "execution_count": 56,
   "id": "b54ef97e",
   "metadata": {},
   "outputs": [
    {
     "name": "stdout",
     "output_type": "stream",
     "text": [
      "A*B: \n",
      "[[ 5.  5.  5.]\n",
      " [18. 18. 18.]]\n",
      "\n",
      "B*A не определено, не соответствует условиям произведения матриц\n"
     ]
    }
   ],
   "source": [
    "# б) \n",
    "    # A(2,5) и B(5,3)\n",
    "A = np.array([[1, 2, 3, 0, -1], [0, 3, 4, 5, 6]])\n",
    "B = np.ones((5,3))\n",
    "print(f'A*B: \\n{np.dot(A,B)}\\n')\n",
    "print('B*A не определено, не соответствует условиям произведения матриц')"
   ]
  },
  {
   "cell_type": "code",
   "execution_count": 57,
   "id": "8fa6228d",
   "metadata": {},
   "outputs": [
    {
     "name": "stdout",
     "output_type": "stream",
     "text": [
      "A*B: \n",
      "[[  6.   6.   6.   6.   6.   6.   6.   6.]\n",
      " [ 15.  15.  15.  15.  15.  15.  15.  15.]\n",
      " [ 24.  24.  24.  24.  24.  24.  24.  24.]\n",
      " [  2.   2.   2.   2.   2.   2.   2.   2.]\n",
      " [  4.   4.   4.   4.   4.   4.   4.   4.]\n",
      " [ 11.  11.  11.  11.  11.  11.  11.  11.]\n",
      " [ 19.  19.  19.  19.  19.  19.  19.  19.]\n",
      " [-12. -12. -12. -12. -12. -12. -12. -12.]]\n",
      " Размерность: (8, 8)\n",
      "B*A: \n",
      "[[25. 19. 25.]\n",
      " [25. 19. 25.]\n",
      " [25. 19. 25.]]\n",
      " Размерность: (3, 3)\n"
     ]
    }
   ],
   "source": [
    "# в)\n",
    "    # A(8,3) и B(3,8)\n",
    "A = np.array([[1, 2, 3], [4, 5, 6], [7, 8, 9], [0, -3, 5], [5, -2, 1], [4,1,6], [7,8,4], [-3, 0, -9]])\n",
    "B = np.ones((3,8))  \n",
    "print(f'A*B: \\n{np.dot(A,B)}\\n Размерность: {np.dot(A,B).shape}')\n",
    "print(f'B*A: \\n{np.dot(B,A)}\\n Размерность: {np.dot(B,A).shape}')\n"
   ]
  },
  {
   "cell_type": "code",
   "execution_count": 58,
   "id": "e19cd9bf",
   "metadata": {},
   "outputs": [
    {
     "name": "stdout",
     "output_type": "stream",
     "text": [
      "A*B: \n",
      "[[4. 4. 4. 4.]\n",
      " [4. 4. 4. 4.]\n",
      " [4. 4. 4. 4.]\n",
      " [4. 4. 4. 4.]]\n",
      " Размерность: (4, 4)\n",
      "B*A: \n",
      "[[4. 4. 4. 4.]\n",
      " [4. 4. 4. 4.]\n",
      " [4. 4. 4. 4.]\n",
      " [4. 4. 4. 4.]]\n",
      " Размерность: (4, 4)\n"
     ]
    }
   ],
   "source": [
    "# г)\n",
    "    # A(4,4) и B(4,4)\n",
    "A = np.ones((4,4))\n",
    "B = np.ones((4,4))  \n",
    "print(f'A*B: \\n{np.dot(A,B)}\\n Размерность: {np.dot(A,B).shape}')\n",
    "print(f'B*A: \\n{np.dot(B,A)}\\n Размерность: {np.dot(B,A).shape}')"
   ]
  },
  {
   "cell_type": "markdown",
   "id": "17273ebe",
   "metadata": {},
   "source": [
    "### Задание 2"
   ]
  },
  {
   "cell_type": "code",
   "execution_count": 59,
   "id": "ddc352e4",
   "metadata": {},
   "outputs": [
    {
     "name": "stdout",
     "output_type": "stream",
     "text": [
      "Сумма A и В:\n",
      "[[ 5 -3]\n",
      " [ 3  5]]\n",
      "\n",
      "Произведение A и B:\n",
      "[[  4 -11]\n",
      " [ 12  -3]]\n",
      "\n"
     ]
    }
   ],
   "source": [
    "A = np.array([[1, -2], [3, 0]])\n",
    "B = np.array([[4, -1], [0, 5]])\n",
    "print(f'Сумма A и В:\\n{A + B}\\n')\n",
    "print(f'Произведение A и B:\\n{np.dot(A,B)}\\n')"
   ]
  },
  {
   "cell_type": "markdown",
   "id": "bd3fb1a1",
   "metadata": {},
   "source": [
    "### Задание 3"
   ]
  },
  {
   "cell_type": "code",
   "execution_count": 60,
   "id": "69ee6ecb",
   "metadata": {},
   "outputs": [
    {
     "name": "stdout",
     "output_type": "stream",
     "text": [
      "[[ 11  -5]\n",
      " [  9 -12]]\n"
     ]
    }
   ],
   "source": [
    "A = np.array([[1, 7], [3, -6]])\n",
    "B = np.array([[0, 5], [2, -1]])\n",
    "C = np.array([[2, -4], [1, 1]])\n",
    "D = 3*A - 2*B + 4*C\n",
    "print(D)"
   ]
  },
  {
   "cell_type": "markdown",
   "id": "0ffd4f50",
   "metadata": {},
   "source": [
    "### Задание 4 "
   ]
  },
  {
   "cell_type": "code",
   "execution_count": 61,
   "id": "3a739f45",
   "metadata": {},
   "outputs": [
    {
     "name": "stdout",
     "output_type": "stream",
     "text": [
      "A*A_T: \n",
      "[[17 18 11]\n",
      " [18 29  4]\n",
      " [11  4 13]]\n",
      "\n",
      "A_T*A: \n",
      "[[45  0]\n",
      " [ 0 14]]\n",
      "\n"
     ]
    }
   ],
   "source": [
    "A = np.array([[4, 1], [5, -2], [2, 3]])\n",
    "A_T = A.T\n",
    "print(f'A*A_T: \\n{np.dot(A, A_T)}\\n')\n",
    "print(f'A_T*A: \\n{np.dot(A_T, A)}\\n')"
   ]
  },
  {
   "cell_type": "markdown",
   "id": "5e329767",
   "metadata": {},
   "source": [
    "## 2 часть заданий\n",
    "### Задание 1"
   ]
  },
  {
   "cell_type": "code",
   "execution_count": 62,
   "id": "28ddf153",
   "metadata": {},
   "outputs": [],
   "source": [
    "# а)\n",
    "# sinA*sinA + cosA*cosA = 1"
   ]
  },
  {
   "cell_type": "code",
   "execution_count": 96,
   "id": "42c7a7fd",
   "metadata": {},
   "outputs": [
    {
     "data": {
      "text/plain": [
       "180.0"
      ]
     },
     "execution_count": 96,
     "metadata": {},
     "output_type": "execute_result"
    }
   ],
   "source": [
    "# б)\n",
    "A = np.array([[4, 2, 3], [0, 5, 1], [0, 0, 9]])\n",
    "np.linalg.det(A)"
   ]
  },
  {
   "cell_type": "code",
   "execution_count": 97,
   "id": "6dd30d24",
   "metadata": {},
   "outputs": [
    {
     "data": {
      "text/plain": [
       "0.0"
      ]
     },
     "execution_count": 97,
     "metadata": {},
     "output_type": "execute_result"
    }
   ],
   "source": [
    "# в)\n",
    "A = np.array([[1, 2, 3], [4, 5, 6], [7, 8, 9]])\n",
    "round(np.linalg.det(A), 1)"
   ]
  },
  {
   "cell_type": "markdown",
   "id": "bce48662",
   "metadata": {},
   "source": [
    "### Задание 2"
   ]
  },
  {
   "cell_type": "code",
   "execution_count": 98,
   "id": "04d67b58",
   "metadata": {},
   "outputs": [],
   "source": [
    "# а) det(A**2)\n",
    "    # det(A**2) = 16\n",
    "# б) det(AT)\n",
    "    # det(A) = det(AT) = 4\n",
    "# в) det(2A)\n",
    "    #  det(2A) = 2**n * 4"
   ]
  },
  {
   "cell_type": "markdown",
   "id": "3652d2a7",
   "metadata": {},
   "source": [
    "### Задание 3"
   ]
  },
  {
   "cell_type": "code",
   "execution_count": 99,
   "id": "d93f98b0",
   "metadata": {},
   "outputs": [
    {
     "name": "stdout",
     "output_type": "stream",
     "text": [
      "0.0\n",
      "Матрица вырожденная\n"
     ]
    }
   ],
   "source": [
    "A = np.array([[-2, 7, -3], [4, -14, 6], [-3, 7, 13]])\n",
    "detA = np.linalg.det(A)\n",
    "print(detA)\n",
    "if detA == 0:\n",
    "    print('Матрица вырожденная')\n",
    "else:\n",
    "    print(f'Определитель не равен нулю: {detA}')"
   ]
  },
  {
   "cell_type": "markdown",
   "id": "fbd0db88",
   "metadata": {},
   "source": [
    "### Задание 4"
   ]
  },
  {
   "cell_type": "code",
   "execution_count": 107,
   "id": "ffefdcb5",
   "metadata": {},
   "outputs": [
    {
     "name": "stdout",
     "output_type": "stream",
     "text": [
      "Матрица: \n",
      "[[1 2 3]\n",
      " [1 1 1]\n",
      " [2 3 4]]\n",
      "Ранг матрицы: 2\n"
     ]
    }
   ],
   "source": [
    "# а)\n",
    "A = np.array([[1, 2, 3], [1, 1, 1], [2, 3, 4]])\n",
    "print(f'Матрица: \\n{A}\\nРанг матрицы: {np.linalg.matrix_rank(A)}')"
   ]
  },
  {
   "cell_type": "code",
   "execution_count": 108,
   "id": "f55a3ed9",
   "metadata": {},
   "outputs": [
    {
     "name": "stdout",
     "output_type": "stream",
     "text": [
      "Матрица: \n",
      "[[0 0 2 1]\n",
      " [0 0 2 2]\n",
      " [0 0 4 3]\n",
      " [2 3 5 6]]\n",
      "Ранг матрицы: 3\n"
     ]
    }
   ],
   "source": [
    "# б)\n",
    "A = np.array([[0, 0, 2, 1], [0, 0, 2, 2], [0, 0, 4, 3], [2, 3, 5, 6]])\n",
    "print(f'Матрица: \\n{A}\\nРанг матрицы: {np.linalg.matrix_rank(A)}')"
   ]
  },
  {
   "cell_type": "code",
   "execution_count": null,
   "id": "2c15ee17",
   "metadata": {},
   "outputs": [],
   "source": []
  }
 ],
 "metadata": {
  "kernelspec": {
   "display_name": "Python 3 (ipykernel)",
   "language": "python",
   "name": "python3"
  },
  "language_info": {
   "codemirror_mode": {
    "name": "ipython",
    "version": 3
   },
   "file_extension": ".py",
   "mimetype": "text/x-python",
   "name": "python",
   "nbconvert_exporter": "python",
   "pygments_lexer": "ipython3",
   "version": "3.9.13"
  }
 },
 "nbformat": 4,
 "nbformat_minor": 5
}
